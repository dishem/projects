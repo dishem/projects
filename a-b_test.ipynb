{
  "metadata": {
    "kernelspec": {
      "name": "python",
      "display_name": "Python (Pyodide)",
      "language": "python"
    },
    "language_info": {
      "codemirror_mode": {
        "name": "python",
        "version": 3
      },
      "file_extension": ".py",
      "mimetype": "text/x-python",
      "name": "python",
      "nbconvert_exporter": "python",
      "pygments_lexer": "ipython3",
      "version": "3.8"
    }
  },
  "nbformat_minor": 4,
  "nbformat": 4,
  "cells": [
    {
      "cell_type": "markdown",
      "source": "Имеются результаты A/B теста, в котором двум группам пользователей предлагались различные наборы акционных предложений. Известно, что ARPU в тестовой группе выше на 5%, чем в контрольной. При этом в контрольной группе 1928 игроков из 202103 оказались платящими, а в тестовой – 1805 из 202667.\n\nКакой набор предложений можно считать лучшим? Какие метрики стоит проанализировать для принятия правильного решения и как?",
      "metadata": {}
    },
    {
      "cell_type": "markdown",
      "source": "## Импорт библиотек",
      "metadata": {}
    },
    {
      "cell_type": "code",
      "source": "import pandas as pd\nimport seaborn as sns\nimport matplotlib.pyplot as plt\nimport numpy as np\nfrom scipy import stats\n",
      "metadata": {},
      "outputs": [],
      "execution_count": 1
    },
    {
      "cell_type": "markdown",
      "source": "## Загрузка данных",
      "metadata": {}
    },
    {
      "cell_type": "code",
      "source": "df = pd.read_csv('Проект_1_Задание_2.csv', sep = ';')",
      "metadata": {},
      "outputs": [],
      "execution_count": 2
    },
    {
      "cell_type": "markdown",
      "source": "## Анализ данных",
      "metadata": {}
    },
    {
      "cell_type": "code",
      "source": "df.head()",
      "metadata": {},
      "outputs": [
        {
          "data": {
            "text/html": [
              "<div>\n",
              "<style scoped>\n",
              "    .dataframe tbody tr th:only-of-type {\n",
              "        vertical-align: middle;\n",
              "    }\n",
              "\n",
              "    .dataframe tbody tr th {\n",
              "        vertical-align: top;\n",
              "    }\n",
              "\n",
              "    .dataframe thead th {\n",
              "        text-align: right;\n",
              "    }\n",
              "</style>\n",
              "<table border=\"1\" class=\"dataframe\">\n",
              "  <thead>\n",
              "    <tr style=\"text-align: right;\">\n",
              "      <th></th>\n",
              "      <th>user_id</th>\n",
              "      <th>revenue</th>\n",
              "      <th>testgroup</th>\n",
              "    </tr>\n",
              "  </thead>\n",
              "  <tbody>\n",
              "    <tr>\n",
              "      <th>0</th>\n",
              "      <td>1</td>\n",
              "      <td>0</td>\n",
              "      <td>b</td>\n",
              "    </tr>\n",
              "    <tr>\n",
              "      <th>1</th>\n",
              "      <td>2</td>\n",
              "      <td>0</td>\n",
              "      <td>a</td>\n",
              "    </tr>\n",
              "    <tr>\n",
              "      <th>2</th>\n",
              "      <td>3</td>\n",
              "      <td>0</td>\n",
              "      <td>a</td>\n",
              "    </tr>\n",
              "    <tr>\n",
              "      <th>3</th>\n",
              "      <td>4</td>\n",
              "      <td>0</td>\n",
              "      <td>b</td>\n",
              "    </tr>\n",
              "    <tr>\n",
              "      <th>4</th>\n",
              "      <td>5</td>\n",
              "      <td>0</td>\n",
              "      <td>b</td>\n",
              "    </tr>\n",
              "  </tbody>\n",
              "</table>\n",
              "</div>"
            ],
            "text/plain": [
              "   user_id  revenue testgroup\n",
              "0        1        0         b\n",
              "1        2        0         a\n",
              "2        3        0         a\n",
              "3        4        0         b\n",
              "4        5        0         b"
            ]
          },
          "execution_count": 3,
          "metadata": {},
          "output_type": "execute_result"
        }
      ],
      "execution_count": 3
    },
    {
      "cell_type": "code",
      "source": "df.info()",
      "metadata": {},
      "outputs": [
        {
          "name": "stdout",
          "output_type": "stream",
          "text": "<class 'pandas.core.frame.DataFrame'>\n,RangeIndex: 404770 entries, 0 to 404769\n,Data columns (total 3 columns):\n, #   Column     Non-Null Count   Dtype \n,---  ------     --------------   ----- \n, 0   user_id    404770 non-null  int64 \n, 1   revenue    404770 non-null  int64 \n, 2   testgroup  404770 non-null  object\n,dtypes: int64(2), object(1)\n,memory usage: 9.3+ MB\n"
        }
      ],
      "execution_count": 4
    },
    {
      "cell_type": "code",
      "source": "df.user_id.unique().shape",
      "metadata": {},
      "outputs": [
        {
          "data": {
            "text/plain": [
              "(404770,)"
            ]
          },
          "execution_count": 5,
          "metadata": {},
          "output_type": "execute_result"
        }
      ],
      "execution_count": 5
    },
    {
      "cell_type": "code",
      "source": "df.isnull().sum()",
      "metadata": {},
      "outputs": [
        {
          "data": {
            "text/plain": [
              "user_id      0\n",
              "revenue      0\n",
              "testgroup    0\n",
              "dtype: int64"
            ]
          },
          "execution_count": 6,
          "metadata": {},
          "output_type": "execute_result"
        }
      ],
      "execution_count": 6
    },
    {
      "cell_type": "markdown",
      "source": "Посмотрели тип данных, количество и проверили,что пустых строк нет. Посмотрим на соотношение платящих и неплатящих пользователей",
      "metadata": {}
    },
    {
      "cell_type": "code",
      "source": "df_pay = df.query('revenue > 0')\ndf_count = df.user_id.count()\ndf_pay_count = df_pay.user_id.count()\ndf_pay.info()",
      "metadata": {},
      "outputs": [
        {
          "name": "stdout",
          "output_type": "stream",
          "text": "<class 'pandas.core.frame.DataFrame'>\n,Int64Index: 3733 entries, 72 to 404767\n,Data columns (total 3 columns):\n, #   Column     Non-Null Count  Dtype \n,---  ------     --------------  ----- \n, 0   user_id    3733 non-null   int64 \n, 1   revenue    3733 non-null   int64 \n, 2   testgroup  3733 non-null   object\n,dtypes: int64(2), object(1)\n,memory usage: 116.7+ KB\n"
        }
      ],
      "execution_count": 7
    },
    {
      "cell_type": "code",
      "source": "print(f'''Всего пользователей {df_count}\nЗаплативших пользователей {df_pay_count}\nКонверсия в платящих {round((df_pay_count/df_count)*100,2)}%''')",
      "metadata": {},
      "outputs": [
        {
          "name": "stdout",
          "output_type": "stream",
          "text": "Всего пользователей 404770\n,Заплативших пользователей 3733\n,Конверсия в платящих 0.92%\n"
        }
      ],
      "execution_count": 8
    },
    {
      "cell_type": "markdown",
      "source": "Так как число незаплативших пользователей значительно больше, то график по всем пользователям будет неинформативным. Построим график по платящим с разбиением на группы",
      "metadata": {}
    },
    {
      "cell_type": "code",
      "source": "sns.boxplot(data = df_pay, x = 'revenue',y = 'testgroup')",
      "metadata": {},
      "outputs": [
        {
          "data": {
            "text/plain": [
              "<matplotlib.axes._subplots.AxesSubplot at 0x7f8e05bacef0>"
            ]
          },
          "execution_count": 9,
          "metadata": {},
          "output_type": "execute_result"
        },
        {
          "data": {
            "image/png": "[encoded data removed]",
            "text/plain": [
              "<Figure size 432x288 with 1 Axes>"
            ]
          },
          "metadata": {
            "needs_background": "light"
          },
          "output_type": "display_data"
        }
      ],
      "execution_count": 9
    },
    {
      "cell_type": "markdown",
      "source": "Разобьём данные по группам и построим график violinplot для каждой группы платящих",
      "metadata": {}
    },
    {
      "cell_type": "code",
      "source": "#разбиение по группам всех пользователей\ntest_a = df.query('testgroup == \"a\"')\ntest_b = df.query('testgroup == \"b\"')\n#разбиение по группам платящих\ntest_a_sales = test_a.query('revenue != 0').sort_values(by ='revenue')\ntest_b_sales = test_b.query('revenue != 0').sort_values(by ='revenue')",
      "metadata": {},
      "outputs": [],
      "execution_count": 10
    },
    {
      "cell_type": "code",
      "source": "sns.violinplot(data = test_a_sales, x = 'revenue')",
      "metadata": {},
      "outputs": [
        {
          "data": {
            "text/plain": [
              "<matplotlib.axes._subplots.AxesSubplot at 0x7f8e05b26940>"
            ]
          },
          "execution_count": 11,
          "metadata": {},
          "output_type": "execute_result"
        },
        {
          "data": {
            "image/png": "[encoded data removed]",
            "text/plain": [
              "<Figure size 432x288 with 1 Axes>"
            ]
          },
          "metadata": {
            "needs_background": "light"
          },
          "output_type": "display_data"
        }
      ],
      "execution_count": 11
    },
    {
      "cell_type": "code",
      "source": "sns.violinplot(data = test_b_sales, x = 'revenue')",
      "metadata": {},
      "outputs": [
        {
          "data": {
            "text/plain": [
              "<matplotlib.axes._subplots.AxesSubplot at 0x7f8e0564d9e8>"
            ]
          },
          "execution_count": 12,
          "metadata": {},
          "output_type": "execute_result"
        },
        {
          "data": {
            "image/png": "[encoded data removed]",
            "text/plain": [
              "<Figure size 432x288 with 1 Axes>"
            ]
          },
          "metadata": {
            "needs_background": "light"
          },
          "output_type": "display_data"
        }
      ],
      "execution_count": 12
    },
    {
      "cell_type": "code",
      "source": "#число пользователей из группы а,отличающееся от остальных\ntest_a_sales.query('revenue > 30000').user_id.count()",
      "metadata": {
        "scrolled": true
      },
      "outputs": [
        {
          "data": {
            "text/plain": [
              "123"
            ]
          },
          "execution_count": 13,
          "metadata": {},
          "output_type": "execute_result"
        }
      ],
      "execution_count": 13
    },
    {
      "cell_type": "code",
      "source": "#сумма покупок на этих пользователей\ntest_a_sales_big = test_a_sales.query('revenue > 30000').revenue.sum()\ntest_a_sales_big",
      "metadata": {},
      "outputs": [
        {
          "data": {
            "text/plain": [
              "4590252"
            ]
          },
          "execution_count": 14,
          "metadata": {},
          "output_type": "execute_result"
        }
      ],
      "execution_count": 14
    },
    {
      "cell_type": "code",
      "source": "#сумма покупок всех пользователей из группы а\ntest_a_sales_all = test_a_sales.revenue.sum()\ntest_a_sales_all",
      "metadata": {},
      "outputs": [
        {
          "data": {
            "text/plain": [
              "5136189"
            ]
          },
          "execution_count": 15,
          "metadata": {},
          "output_type": "execute_result"
        }
      ],
      "execution_count": 15
    },
    {
      "cell_type": "code",
      "source": "#доля покупок на пользователей с покупками > 30000\ntest_a_sales_big/test_a_sales_all",
      "metadata": {},
      "outputs": [
        {
          "data": {
            "text/plain": [
              "0.8937077665950377"
            ]
          },
          "execution_count": 16,
          "metadata": {},
          "output_type": "execute_result"
        }
      ],
      "execution_count": 16
    },
    {
      "cell_type": "markdown",
      "source": "По графикам видим,что в группе 'а' присутствует 123 пользователя,выручка которых значительно отличается от остальных. Доля прибыли на этих пользователей составляет 89% в группе 'a'.Проанализируем две группы, посмотрим описательную статистику и расчитаем метрики:\n1. Средний доход на пользователя (ARPU)\n2. Средний доход на платящего пользователя(ARPPU)\n3. Выручка (Revenue)\n4. Конверсия в платящего(CR)\n",
      "metadata": {}
    },
    {
      "cell_type": "code",
      "source": "test_a_sales.revenue.describe()",
      "metadata": {},
      "outputs": [
        {
          "data": {
            "text/plain": [
              "count     1928.000000\n",
              "mean      2663.998444\n",
              "std       9049.039763\n",
              "min        200.000000\n",
              "25%        257.000000\n",
              "50%        311.000000\n",
              "75%        361.000000\n",
              "max      37433.000000\n",
              "Name: revenue, dtype: float64"
            ]
          },
          "execution_count": 17,
          "metadata": {},
          "output_type": "execute_result"
        }
      ],
      "execution_count": 17
    },
    {
      "cell_type": "code",
      "source": "test_b_sales.revenue.describe()",
      "metadata": {},
      "outputs": [
        {
          "data": {
            "text/plain": [
              "count    1805.000000\n",
              "mean     3003.658172\n",
              "std       572.619709\n",
              "min      2000.000000\n",
              "25%      2513.000000\n",
              "50%      3022.000000\n",
              "75%      3478.000000\n",
              "max      4000.000000\n",
              "Name: revenue, dtype: float64"
            ]
          },
          "execution_count": 18,
          "metadata": {},
          "output_type": "execute_result"
        }
      ],
      "execution_count": 18
    },
    {
      "cell_type": "code",
      "source": "#средняя цена в группах\nmean_a = test_a_sales.revenue.mean()\nmean_b = test_b_sales.revenue.mean()\n#медианная цена товаров в группах(так как есть выбросы)\nmedian_a = test_a_sales.revenue.median()\nmedian_b = test_b_sales.revenue.median()\n#максимальная покупка\nmax_a = test_a_sales.revenue.max()\nmax_b = test_b_sales.revenue.max()\n#минимальная покупка\nmin_a = test_a_sales.revenue.min()\nmin_b = test_b_sales.revenue.min()\n#выручка \nrev_a = test_a.revenue.sum()\nrev_b = test_b.revenue.sum()\n# средний доход на пользователя \narpu_a = test_a.revenue.sum()/len(test_a)\narpu_b = test_b.revenue.sum()/len(test_b)\n#средний доход на платящего пользователя \narppu_a = test_a.revenue.sum()/ len(test_a_sales)\narppu_b = test_b.revenue.sum()/ len(test_b_sales)\n#конверсия d %\ncr_a = (test_a_sales.revenue.count() / test_a.revenue.count())*100\ncr_b = (test_b_sales.revenue.count() / test_b.revenue.count())*100\n\n#делаем кортеж из значений\nrezult = {'mean':[mean_a,mean_b],'median':[median_a,median_b],'max':[max_a,max_b],'min':[min_a,min_b],\n          'rev':[rev_a,rev_b],'arpu':[arpu_a,arpu_b],'arppu':[arppu_a,arppu_b],'cr':[cr_a,cr_b]}\n#переводим кортеж в датафрейм\ndf_rezult = pd.DataFrame(rezult,index = ['a','b']).round(2)\n#добавляем ещё 1 строку с разницей значений (b-a)\ndf_rezult = df_rezult.append(df_rezult.diff().tail(1))\ndf_rezult.index = ['a','b','b - a']\ndf_rezult",
      "metadata": {},
      "outputs": [
        {
          "data": {
            "text/html": [
              "<div>\n",
              "<style scoped>\n",
              "    .dataframe tbody tr th:only-of-type {\n",
              "        vertical-align: middle;\n",
              "    }\n",
              "\n",
              "    .dataframe tbody tr th {\n",
              "        vertical-align: top;\n",
              "    }\n",
              "\n",
              "    .dataframe thead th {\n",
              "        text-align: right;\n",
              "    }\n",
              "</style>\n",
              "<table border=\"1\" class=\"dataframe\">\n",
              "  <thead>\n",
              "    <tr style=\"text-align: right;\">\n",
              "      <th></th>\n",
              "      <th>mean</th>\n",
              "      <th>median</th>\n",
              "      <th>max</th>\n",
              "      <th>min</th>\n",
              "      <th>rev</th>\n",
              "      <th>arpu</th>\n",
              "      <th>arppu</th>\n",
              "      <th>cr</th>\n",
              "    </tr>\n",
              "  </thead>\n",
              "  <tbody>\n",
              "    <tr>\n",
              "      <th>a</th>\n",
              "      <td>2664.00</td>\n",
              "      <td>311.0</td>\n",
              "      <td>37433.0</td>\n",
              "      <td>200.0</td>\n",
              "      <td>5136189.0</td>\n",
              "      <td>25.41</td>\n",
              "      <td>2664.00</td>\n",
              "      <td>0.95</td>\n",
              "    </tr>\n",
              "    <tr>\n",
              "      <th>b</th>\n",
              "      <td>3003.66</td>\n",
              "      <td>3022.0</td>\n",
              "      <td>4000.0</td>\n",
              "      <td>2000.0</td>\n",
              "      <td>5421603.0</td>\n",
              "      <td>26.75</td>\n",
              "      <td>3003.66</td>\n",
              "      <td>0.89</td>\n",
              "    </tr>\n",
              "    <tr>\n",
              "      <th>b - a</th>\n",
              "      <td>339.66</td>\n",
              "      <td>2711.0</td>\n",
              "      <td>-33433.0</td>\n",
              "      <td>1800.0</td>\n",
              "      <td>285414.0</td>\n",
              "      <td>1.34</td>\n",
              "      <td>339.66</td>\n",
              "      <td>-0.06</td>\n",
              "    </tr>\n",
              "  </tbody>\n",
              "</table>\n",
              "</div>"
            ],
            "text/plain": [
              "          mean  median      max     min        rev   arpu    arppu    cr\n",
              "a      2664.00   311.0  37433.0   200.0  5136189.0  25.41  2664.00  0.95\n",
              "b      3003.66  3022.0   4000.0  2000.0  5421603.0  26.75  3003.66  0.89\n",
              "b - a   339.66  2711.0 -33433.0  1800.0   285414.0   1.34   339.66 -0.06"
            ]
          },
          "execution_count": 20,
          "metadata": {},
          "output_type": "execute_result"
        }
      ],
      "execution_count": 20
    },
    {
      "cell_type": "markdown",
      "source": "Проанализировав группы можем сказать,что в группе 'а' медианная покупка составляет 311 единиц.Большинство пользователей совершали покупке около этой цены. 123 человека совершили покупку свыше 30 000 единиц, что составило 89% всей прибыли. В группе 'b' медианная покупка 2711 и все пользователи покупали по цене от 2000 до 4000 единиц. ARPU,ARPPU лучше в группе 'b',а вот конверсия в группе 'a'. Проверим статзначимость изменений ARPU,ARPPU,CONV. Так как число пользователей у нас большое,то будем пренебрегать условием нормальности распределения. Для ARPU,ARPPU проверим равенство дисперсий тестом Левена и используем t-тест. Если дисперсии не равны,введём поправку Уэлча. Для конверсии используем критерий хи-квадрат   ",
      "metadata": {}
    },
    {
      "cell_type": "markdown",
      "source": "Исходные данные test_a и test_b.Гипотезы:\nH0 - нулевая гипотеза,дисперсии равны\nH1 - дисперсии статзначимо отличаются",
      "metadata": {}
    },
    {
      "cell_type": "code",
      "source": "#тест Левена для ARPU\nstat_levene, p_value_levene_arpu = stats.levene(test_a.revenue, test_b.revenue,center = 'mean')\nprint(f'p-value = {p_value_levene_arpu}')\nif p_value_levene_arpu > 0.05:\n    print('Нет оснований отклонить нулевую гипотезу, дисперсии статзначимо не отличаются, используем t-тест')\nelse:\n    print('Есть основания отклонить нулевую гипотезу, дисперсии статзначимо отличаются, используем t-тест с поправкой Уэлча')\n    ",
      "metadata": {},
      "outputs": [
        {
          "name": "stdout",
          "output_type": "stream",
          "text": "p-value = 0.2091420343022563\n,Нет оснований отклонить нулевую гипотезу, дисперсии статзначимо не отличаются, используем t-тест\n"
        }
      ],
      "execution_count": 22
    },
    {
      "cell_type": "markdown",
      "source": "Исходные данные test_a и test_b. Гипотезы:<br>\nH0 - нулевая гипотеза,ARPU не отличаются<br>\nH1 - ARPU статзначимо отличаются",
      "metadata": {}
    },
    {
      "cell_type": "code",
      "source": "#t-тест для ARPU\nt_statistic, p_value_arpu = stats.ttest_ind(test_a.revenue, test_b.revenue)\nprint(f'p-value = {p_value_arpu}')\nif p_value_arpu > 0.05:\n    print('Нет оснований отклонить нулевую гипотезу, ARPU статзначимо не отличаются')\nelse:\n    print('Есть основания отклонить нулевую гипотезу, ARPU статзначимо отличаются')",
      "metadata": {},
      "outputs": [
        {
          "name": "stdout",
          "output_type": "stream",
          "text": "p-value = 0.532494858971837\n,Нет оснований отклонить нулевую гипотезу, ARPU статзначимо не отличаются\n"
        }
      ],
      "execution_count": 23
    },
    {
      "cell_type": "code",
      "source": "#тест Левена для ARPPU\nstat_levene, p_value_levene_arppu = stats.levene(test_a_sales.revenue, test_b_sales.revenue,center = 'mean')\nprint(f'p-value = {p_value_levene_arppu}')\nif p_value_levene_arppu > 0.05:\n    print('Нет оснований отклонить нулевую гипотезу, дисперсии статзначимо не отличаются, используем t-тест')\nelse:\n    print('Есть основания отклонить нулевую гипотезу, дисперсии статзначимо отличаются, используем t-тест с поправкой Уэлча')",
      "metadata": {},
      "outputs": [
        {
          "name": "stdout",
          "output_type": "stream",
          "text": "p-value = 1.3202514573715939e-93\n,Есть основания отклонить нулевую гипотезу, дисперсии статзначимо отличаются, используем t-тест с поправкой Уэлча\n"
        }
      ],
      "execution_count": 24
    },
    {
      "cell_type": "code",
      "source": "#t-тест для ARPPU с поправкой Уэлча\nt_statistic, p_value_arppu = stats.ttest_ind(test_a_sales.revenue, test_b_sales.revenue,equal_var=False)\nprint(f'p-value = {p_value_arppu}')\nif p_value_arppu > 0.05:\n    print('Нет оснований отклонить нулевую гипотезу, ARPU статзначимо не отличаются')\nelse:\n    print('Есть основания отклонить нулевую гипотезу, ARPU статзначимо отличаются')",
      "metadata": {},
      "outputs": [
        {
          "name": "stdout",
          "output_type": "stream",
          "text": "p-value = 0.10020780398916015\n,Нет оснований отклонить нулевую гипотезу, ARPU статзначимо не отличаются\n"
        }
      ],
      "execution_count": 25
    },
    {
      "cell_type": "markdown",
      "source": "Проведя тесты выяснили,что статзначимых отличий в ARPU и ARPPU между двумя группами не наблюдается. Проведём сравнение конверсий в платящих<br>\nН0 - конверсия в платящих не зависит от группы<br>\nН1 - есть статзначимое различие в конверсии в группах",
      "metadata": {}
    },
    {
      "cell_type": "code",
      "source": "#создаём столбец,если была покупка,то 1,остальное 0\ndf['rev_true'] = df.revenue.apply(lambda x:0 if x == 0 else 1)\n#группируем и переворачиваем таблицу\ndf_test = df.groupby(['testgroup','rev_true'],as_index = False)\\\n            .user_id.count()\\\n            .pivot(index = 'rev_true',columns = 'testgroup',values = 'user_id')\ndf_test",
      "metadata": {},
      "outputs": [
        {
          "data": {
            "text/html": [
              "<div>\n",
              "<style scoped>\n",
              "    .dataframe tbody tr th:only-of-type {\n",
              "        vertical-align: middle;\n",
              "    }\n",
              "\n",
              "    .dataframe tbody tr th {\n",
              "        vertical-align: top;\n",
              "    }\n",
              "\n",
              "    .dataframe thead th {\n",
              "        text-align: right;\n",
              "    }\n",
              "</style>\n",
              "<table border=\"1\" class=\"dataframe\">\n",
              "  <thead>\n",
              "    <tr style=\"text-align: right;\">\n",
              "      <th>testgroup</th>\n",
              "      <th>a</th>\n",
              "      <th>b</th>\n",
              "    </tr>\n",
              "    <tr>\n",
              "      <th>rev_true</th>\n",
              "      <th></th>\n",
              "      <th></th>\n",
              "    </tr>\n",
              "  </thead>\n",
              "  <tbody>\n",
              "    <tr>\n",
              "      <th>0</th>\n",
              "      <td>200175</td>\n",
              "      <td>200862</td>\n",
              "    </tr>\n",
              "    <tr>\n",
              "      <th>1</th>\n",
              "      <td>1928</td>\n",
              "      <td>1805</td>\n",
              "    </tr>\n",
              "  </tbody>\n",
              "</table>\n",
              "</div>"
            ],
            "text/plain": [
              "testgroup       a       b\n",
              "rev_true                 \n",
              "0          200175  200862\n",
              "1            1928    1805"
            ]
          },
          "execution_count": 26,
          "metadata": {},
          "output_type": "execute_result"
        }
      ],
      "execution_count": 26
    },
    {
      "cell_type": "code",
      "source": "#хи-квадрат \nstats.chi2_contingency(df_test)\nprint(f'p_values_hi2 = {stats.chi2_contingency(df_test)[1]}')",
      "metadata": {},
      "outputs": [
        {
          "name": "stdout",
          "output_type": "stream",
          "text": "p_values_hi2 = 0.03647561892312613\n"
        }
      ],
      "execution_count": 30
    },
    {
      "cell_type": "markdown",
      "source": "#### Так как значение p_values_hi2 < 0.05, то мы отвергаем нулевую гипотезу и считаем, что статзначимые различия в конверсиях есть",
      "metadata": {}
    },
    {
      "cell_type": "markdown",
      "source": "## Выводы",
      "metadata": {}
    },
    {
      "cell_type": "markdown",
      "source": "Был проведён анализ двух групп с акциями. Первое,на что стоит обратить внимание, так это аномальные значения в группе 'а'. Для начала надо разобраться, действительно ли это результат акции или какие-то ошибки в данных. Второе, на что надо обратить внимание, на что направлены акции. Если затрагивать отдельный сегмент платящих, то можно делать разные выводы. Например,если мы хотим увеличить конверсию в платящих > 30000, то идеален тест 'а', если в средний сегмент,то тест 'b'. Подробности а/в теста нам неизвесты, поэтому с этой точки зрения мы вывод сделать не можем. Если смотреть на 3 метрики ARPU,ARPPU,CR, то в первых двух измененя не статзначимы, CR статзначим, однозначно выбрать группу не можем,нужна дополнительная информация.   ",
      "metadata": {}
    }
  ]
}